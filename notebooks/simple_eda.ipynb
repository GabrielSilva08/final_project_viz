{
 "cells": [
  {
   "cell_type": "code",
   "execution_count": 2,
   "id": "a7ff980b",
   "metadata": {},
   "outputs": [],
   "source": [
    "import sys\n",
    "sys.path.append(\"../src\")\n",
    "import pandas as pd"
   ]
  },
  {
   "cell_type": "code",
   "execution_count": 3,
   "id": "6214d936",
   "metadata": {},
   "outputs": [
    {
     "name": "stderr",
     "output_type": "stream",
     "text": [
      "C:\\Users\\Suporte\\AppData\\Local\\Temp\\ipykernel_10880\\2261084086.py:1: DtypeWarning: Columns (4) have mixed types. Specify dtype option on import or set low_memory=False.\n",
      "  games_df = pd.read_csv(\"../data/raw/games_info_viz_final_project_v2.csv\")\n"
     ]
    }
   ],
   "source": [
    "games_df = pd.read_csv(\"../data/raw/games_info_viz_final_project_v2.csv\")\n",
    "console_df = pd.read_csv(\"../data/raw/console_info_viz_final_project.csv\")\n",
    "publisher_df = pd.read_csv(\"../data/raw/publisher_info_viz_final_project.csv\")"
   ]
  },
  {
   "cell_type": "code",
   "execution_count": 13,
   "id": "d1ae6ac7",
   "metadata": {},
   "outputs": [
    {
     "data": {
      "text/html": [
       "<div>\n",
       "<style scoped>\n",
       "    .dataframe tbody tr th:only-of-type {\n",
       "        vertical-align: middle;\n",
       "    }\n",
       "\n",
       "    .dataframe tbody tr th {\n",
       "        vertical-align: top;\n",
       "    }\n",
       "\n",
       "    .dataframe thead th {\n",
       "        text-align: right;\n",
       "    }\n",
       "</style>\n",
       "<table border=\"1\" class=\"dataframe\">\n",
       "  <thead>\n",
       "    <tr style=\"text-align: right;\">\n",
       "      <th></th>\n",
       "      <th>Unnamed: 0</th>\n",
       "      <th>Rank</th>\n",
       "      <th>Name</th>\n",
       "      <th>Classification</th>\n",
       "      <th>Released games</th>\n",
       "      <th>Unreleased games</th>\n",
       "      <th>Total revenue</th>\n",
       "      <th>Avg revenue per game</th>\n",
       "      <th>Med revenue per game</th>\n",
       "      <th>HQ country</th>\n",
       "      <th>...</th>\n",
       "      <th>% indie releases</th>\n",
       "      <th>Action</th>\n",
       "      <th>Casual</th>\n",
       "      <th>Adventure</th>\n",
       "      <th>Simulation</th>\n",
       "      <th>Strategy</th>\n",
       "      <th>RPG</th>\n",
       "      <th>MMO</th>\n",
       "      <th>Racing</th>\n",
       "      <th>Sports</th>\n",
       "    </tr>\n",
       "  </thead>\n",
       "  <tbody>\n",
       "    <tr>\n",
       "      <th>109</th>\n",
       "      <td>109</td>\n",
       "      <td>110</td>\n",
       "      <td>1C-SoftClub</td>\n",
       "      <td>Indie</td>\n",
       "      <td>3</td>\n",
       "      <td>0</td>\n",
       "      <td>106300000.0</td>\n",
       "      <td>35400000.0</td>\n",
       "      <td>22200000.0</td>\n",
       "      <td>Russia</td>\n",
       "      <td>...</td>\n",
       "      <td>0%</td>\n",
       "      <td>33%</td>\n",
       "      <td>0%</td>\n",
       "      <td>0%</td>\n",
       "      <td>0%</td>\n",
       "      <td>33%</td>\n",
       "      <td>67%</td>\n",
       "      <td>0%</td>\n",
       "      <td>0%</td>\n",
       "      <td>0%</td>\n",
       "    </tr>\n",
       "  </tbody>\n",
       "</table>\n",
       "<p>1 rows × 21 columns</p>\n",
       "</div>"
      ],
      "text/plain": [
       "     Unnamed: 0  Rank         Name Classification  Released games  \\\n",
       "109         109   110  1C-SoftClub          Indie               3   \n",
       "\n",
       "     Unreleased games  Total revenue  Avg revenue per game  \\\n",
       "109                 0    106300000.0            35400000.0   \n",
       "\n",
       "    Med revenue per game HQ country  ... % indie releases Action Casual  \\\n",
       "109           22200000.0     Russia  ...               0%    33%     0%   \n",
       "\n",
       "    Adventure Simulation Strategy  RPG MMO Racing Sports  \n",
       "109        0%         0%      33%  67%  0%     0%     0%  \n",
       "\n",
       "[1 rows x 21 columns]"
      ]
     },
     "execution_count": 13,
     "metadata": {},
     "output_type": "execute_result"
    }
   ],
   "source": [
    "publisher_df[publisher_df[\"HQ country\"] == \"Russia\"]"
   ]
  }
 ],
 "metadata": {
  "kernelspec": {
   "display_name": "ICD",
   "language": "python",
   "name": "python3"
  },
  "language_info": {
   "codemirror_mode": {
    "name": "ipython",
    "version": 3
   },
   "file_extension": ".py",
   "mimetype": "text/x-python",
   "name": "python",
   "nbconvert_exporter": "python",
   "pygments_lexer": "ipython3",
   "version": "3.12.2"
  }
 },
 "nbformat": 4,
 "nbformat_minor": 5
}
